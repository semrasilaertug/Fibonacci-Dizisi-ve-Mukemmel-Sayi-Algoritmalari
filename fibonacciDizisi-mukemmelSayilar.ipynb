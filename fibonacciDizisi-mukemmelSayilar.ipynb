{
 "cells": [
  {
   "cell_type": "code",
   "execution_count": 1,
   "id": "4085a96d",
   "metadata": {},
   "outputs": [
    {
     "name": "stdout",
     "output_type": "stream",
     "text": [
      "semra sıla ertuğ\n"
     ]
    }
   ],
   "source": [
    "print(\"semra sıla ertuğ\")"
   ]
  },
  {
   "cell_type": "markdown",
   "id": "5dc87d24",
   "metadata": {},
   "source": [
    "## Fibonacci Serisi"
   ]
  },
  {
   "cell_type": "code",
   "execution_count": 2,
   "id": "609f9cac",
   "metadata": {},
   "outputs": [],
   "source": [
    "def fibonacci_serisi_yazdir(bitis):\n",
    "    if bitis <= 0:\n",
    "        return print(\"fibonacci serisi 0'dan başlar ve negatif değerler alamaz.\")\n",
    "    elif bitis == 1:\n",
    "        return [0]\n",
    "    else:\n",
    "        fibonacci_serisi = [0,1]\n",
    "        while fibonacci_serisi[-1] < bitis:\n",
    "            sayi1 = fibonacci_serisi[-2]\n",
    "            sayi2 = fibonacci_serisi[-1]\n",
    "            fibonacci_serisi.append(sayi1 + sayi2)\n",
    "        sonuc = fibonacci_serisi[:-1]\n",
    "        return print(sonuc)"
   ]
  },
  {
   "cell_type": "code",
   "execution_count": 13,
   "id": "bd59f539",
   "metadata": {},
   "outputs": [
    {
     "name": "stdout",
     "output_type": "stream",
     "text": [
      "Hangi sayıya kadar fibonacci serisi hesaplanacak?34\n",
      "[0, 1, 1, 2, 3, 5, 8, 13, 21]\n"
     ]
    }
   ],
   "source": [
    "bitis = int(input(\"Hangi sayıya kadar fibonacci serisi hesaplanacak?\"))\n",
    "fibonacci_serisi_yazdir(bitis)"
   ]
  },
  {
   "cell_type": "markdown",
   "id": "6b16e4b6",
   "metadata": {},
   "source": [
    "## Mükemmel Sayılar"
   ]
  },
  {
   "cell_type": "code",
   "execution_count": 7,
   "id": "167a4c7c",
   "metadata": {},
   "outputs": [],
   "source": [
    "def mukemmel_kontrolu(sayi):\n",
    "    bolenToplam, i = 0, 1\n",
    "    while i < sayi:\n",
    "        if sayi % i == 0:\n",
    "            bolenToplam += i \n",
    "        i += 1\n",
    "    \n",
    "    if bolenToplam == sayi:\n",
    "        print(\"{} mükemmel bir sayıdır.\".format(sayi))\n",
    "    else:\n",
    "        print(\"{} mükemmel sayı değildir.\".format(sayi));"
   ]
  },
  {
   "cell_type": "code",
   "execution_count": 10,
   "id": "fd6c44ba",
   "metadata": {},
   "outputs": [
    {
     "name": "stdout",
     "output_type": "stream",
     "text": [
      "bir sayı giriniz:6\n",
      "6 mükemmel bir sayıdır.\n"
     ]
    }
   ],
   "source": [
    "kontrolEdilecekSayi = int(input(\"bir sayı giriniz:\"))\n",
    "mukemmel_kontrolu(kontrolEdilecekSayi)"
   ]
  }
 ],
 "metadata": {
  "kernelspec": {
   "display_name": "Python 3 (ipykernel)",
   "language": "python",
   "name": "python3"
  },
  "language_info": {
   "codemirror_mode": {
    "name": "ipython",
    "version": 3
   },
   "file_extension": ".py",
   "mimetype": "text/x-python",
   "name": "python",
   "nbconvert_exporter": "python",
   "pygments_lexer": "ipython3",
   "version": "3.9.13"
  }
 },
 "nbformat": 4,
 "nbformat_minor": 5
}
